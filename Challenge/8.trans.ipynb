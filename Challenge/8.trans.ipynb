version https://git-lfs.github.com/spec/v1
oid sha256:c4225b62969db8b6946ed0dff75af669436475846a74f730b4aebb78ec976d60
size 5691
