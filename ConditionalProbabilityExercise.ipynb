{
 "metadata": {
  "language_info": {
   "codemirror_mode": {
    "name": "ipython",
    "version": 3
   },
   "file_extension": ".py",
   "mimetype": "text/x-python",
   "name": "python",
   "nbconvert_exporter": "python",
   "pygments_lexer": "ipython3",
   "version": "3.7.7-final"
  },
  "orig_nbformat": 2,
  "kernelspec": {
   "name": "python_defaultSpec_1599470733385",
   "display_name": "Python 3.7.7 64-bit ('base': conda)"
  }
 },
 "nbformat": 4,
 "nbformat_minor": 2,
 "cells": [
  {
   "cell_type": "code",
   "execution_count": 1,
   "metadata": {},
   "outputs": [],
   "source": [
    "from numpy import random \n",
    "random.seed(0)\n",
    "\n",
    "totals = {20:0, 30:0, 40:0 , 50:0, 60:0 ,70:0}\n",
    "purchases = {20:0, 30:0, 40:0 , 50:0, 60:0 ,70:0}\n",
    "totalPurchases = 0 \n",
    "for _ in range(100000):\n",
    "    ageDecade = random.choice([20,30,40,50,60,70])\n",
    "    purchaseProbability = float(ageDecade) / 100.0\n",
    "    totals[ageDecade] += 1\n",
    "    if (random.random() < purchaseProbability):\n",
    "        totalPurchases += 1\n",
    "        purchases[ageDecade] += 1\n"
   ]
  },
  {
   "cell_type": "code",
   "execution_count": 2,
   "metadata": {},
   "outputs": [
    {
     "output_type": "execute_result",
     "data": {
      "text/plain": "{20: 16576, 30: 16619, 40: 16632, 50: 16805, 60: 16664, 70: 16704}"
     },
     "metadata": {},
     "execution_count": 2
    }
   ],
   "source": [
    "totals "
   ]
  },
  {
   "cell_type": "code",
   "execution_count": 3,
   "metadata": {},
   "outputs": [
    {
     "output_type": "execute_result",
     "data": {
      "text/plain": "{20: 3392, 30: 4974, 40: 6670, 50: 8319, 60: 9944, 70: 11713}"
     },
     "metadata": {},
     "execution_count": 3
    }
   ],
   "source": [
    "purchases"
   ]
  },
  {
   "cell_type": "code",
   "execution_count": 4,
   "metadata": {},
   "outputs": [
    {
     "output_type": "execute_result",
     "data": {
      "text/plain": "45012"
     },
     "metadata": {},
     "execution_count": 4
    }
   ],
   "source": [
    "totalPurchases"
   ]
  },
  {
   "cell_type": "code",
   "execution_count": 5,
   "metadata": {
    "tags": []
   },
   "outputs": [
    {
     "output_type": "stream",
     "name": "stdout",
     "text": "P( purchase | 30s) :  0.29929598652145134\n"
    }
   ],
   "source": [
    "# P(E|F) \n",
    "# your 30s \n",
    "PEF = float(purchases[30]) / float(totals[30])\n",
    "print(\"P( purchase | 30s) : \",PEF)"
   ]
  },
  {
   "cell_type": "code",
   "execution_count": 6,
   "metadata": {
    "tags": []
   },
   "outputs": [
    {
     "output_type": "stream",
     "name": "stdout",
     "text": "P(30's): 0.16619\n"
    }
   ],
   "source": [
    "#P(F)\n",
    "PF = float(totals[30]) / 100000.0\n",
    "print(\"P(30's):\", PF)"
   ]
  },
  {
   "cell_type": "code",
   "execution_count": 7,
   "metadata": {
    "tags": []
   },
   "outputs": [
    {
     "output_type": "stream",
     "name": "stdout",
     "text": "P(Purchase) :  0.45012\n"
    }
   ],
   "source": [
    "PE = float(totalPurchases) / 100000.0\n",
    "print(\"P(Purchase) : \",PE)"
   ]
  },
  {
   "cell_type": "code",
   "execution_count": 8,
   "metadata": {
    "tags": []
   },
   "outputs": [
    {
     "output_type": "stream",
     "name": "stdout",
     "text": "( P(30's)= 0.16619 * P(Purchase) = 0.45012 ) = 0.07480544280000001 \n"
    }
   ],
   "source": [
    "print(\"( P(30's)= {0} * P(Purchase) = {1} ) = {2} \".format(PF,PE,PE * PF))"
   ]
  },
  {
   "cell_type": "code",
   "execution_count": 9,
   "metadata": {
    "tags": []
   },
   "outputs": [
    {
     "output_type": "stream",
     "name": "stdout",
     "text": "P(30's,Purchase) = 0.04974\n"
    }
   ],
   "source": [
    "print(\"P(30's,Purchase) =\",float(purchases[30]) / 100000.0)\n"
   ]
  },
  {
   "cell_type": "code",
   "execution_count": 10,
   "metadata": {},
   "outputs": [
    {
     "output_type": "execute_result",
     "data": {
      "text/plain": "0.29929598652145134"
     },
     "metadata": {},
     "execution_count": 10
    }
   ],
   "source": [
    "#P(E|F) = P(E,F)/P(F)\n",
    "(float(purchases[30])) / 100000.0 / PF\n",
    "\n",
    "\n"
   ]
  },
  {
   "cell_type": "code",
   "execution_count": 15,
   "metadata": {},
   "outputs": [],
   "source": [
    "#Conditional probability assignment\n",
    "from numpy import random \n",
    "random.seed(0) \n",
    "\n",
    "totals = {20:0, 30:0, 40:0 , 50:0, 60:0 ,70:0}\n",
    "purchases = {20:0, 30:0, 40:0 , 50:0, 60:0 ,70:0}\n",
    "totalPurchases = 0 \n",
    "for _ in range(100000):\n",
    "    ageDecade = random.choice([20, 30, 40 , 50 ,60 , 70])\n",
    "    purchaseProbability = 0.4\n",
    "    totals[ageDecade] += 1\n",
    "    if (random.random() < purchaseProbability):\n",
    "        totalPurchases += 1\n",
    "        purchases[ageDecade] += 1"
   ]
  },
  {
   "cell_type": "code",
   "execution_count": 16,
   "metadata": {
    "tags": []
   },
   "outputs": [
    {
     "output_type": "stream",
     "name": "stdout",
     "text": "P(purchase | 30s):  0.3987604549010169\n"
    }
   ],
   "source": [
    "PEF = float(purchases[30] / float(totals[30]))\n",
    "print(\"P(purchase | 30s): \", PEF)"
   ]
  },
  {
   "cell_type": "code",
   "execution_count": 17,
   "metadata": {
    "tags": []
   },
   "outputs": [
    {
     "output_type": "stream",
     "name": "stdout",
     "text": "P(Purchase):  0.4003\n"
    }
   ],
   "source": [
    "PE = float(totalPurchases) / 100000.0\n",
    "print(\"P(Purchase): \",PE)\n"
   ]
  },
  {
   "cell_type": "code",
   "execution_count": null,
   "metadata": {},
   "outputs": [],
   "source": [
    "#Predictive Models \n",
    "# Computin linear regression and r-squared using Python \n"
   ]
  }
 ]
}