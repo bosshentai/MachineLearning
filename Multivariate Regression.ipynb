{
 "metadata": {
  "language_info": {
   "codemirror_mode": {
    "name": "ipython",
    "version": 3
   },
   "file_extension": ".py",
   "mimetype": "text/x-python",
   "name": "python",
   "nbconvert_exporter": "python",
   "pygments_lexer": "ipython3",
   "version": "3.7.7-final"
  },
  "orig_nbformat": 2,
  "kernelspec": {
   "name": "python_defaultSpec_1599479172146",
   "display_name": "Python 3.7.7 64-bit ('base': conda)"
  }
 },
 "nbformat": 4,
 "nbformat_minor": 2,
 "cells": [
  {
   "cell_type": "code",
   "execution_count": 4,
   "metadata": {},
   "outputs": [],
   "source": [
    "import pandas as pd \n",
    "import statsmodels.api as sm \n",
    "\n",
    "df = pd.read_excel('http://cdn.sundog-soft.com/Udemy/DataScience/cars.xls')"
   ]
  },
  {
   "cell_type": "code",
   "execution_count": 5,
   "metadata": {},
   "outputs": [
    {
     "output_type": "execute_result",
     "data": {
      "text/plain": "          Price  Mileage   Make    Model      Trim   Type  Cylinder  Liter  \\\n0  17314.103129     8221  Buick  Century  Sedan 4D  Sedan         6    3.1   \n1  17542.036083     9135  Buick  Century  Sedan 4D  Sedan         6    3.1   \n2  16218.847862    13196  Buick  Century  Sedan 4D  Sedan         6    3.1   \n3  16336.913140    16342  Buick  Century  Sedan 4D  Sedan         6    3.1   \n4  16339.170324    19832  Buick  Century  Sedan 4D  Sedan         6    3.1   \n\n   Doors  Cruise  Sound  Leather  \n0      4       1      1        1  \n1      4       1      1        0  \n2      4       1      1        0  \n3      4       1      0        0  \n4      4       1      0        1  ",
      "text/html": "<div>\n<style scoped>\n    .dataframe tbody tr th:only-of-type {\n        vertical-align: middle;\n    }\n\n    .dataframe tbody tr th {\n        vertical-align: top;\n    }\n\n    .dataframe thead th {\n        text-align: right;\n    }\n</style>\n<table border=\"1\" class=\"dataframe\">\n  <thead>\n    <tr style=\"text-align: right;\">\n      <th></th>\n      <th>Price</th>\n      <th>Mileage</th>\n      <th>Make</th>\n      <th>Model</th>\n      <th>Trim</th>\n      <th>Type</th>\n      <th>Cylinder</th>\n      <th>Liter</th>\n      <th>Doors</th>\n      <th>Cruise</th>\n      <th>Sound</th>\n      <th>Leather</th>\n    </tr>\n  </thead>\n  <tbody>\n    <tr>\n      <th>0</th>\n      <td>17314.103129</td>\n      <td>8221</td>\n      <td>Buick</td>\n      <td>Century</td>\n      <td>Sedan 4D</td>\n      <td>Sedan</td>\n      <td>6</td>\n      <td>3.1</td>\n      <td>4</td>\n      <td>1</td>\n      <td>1</td>\n      <td>1</td>\n    </tr>\n    <tr>\n      <th>1</th>\n      <td>17542.036083</td>\n      <td>9135</td>\n      <td>Buick</td>\n      <td>Century</td>\n      <td>Sedan 4D</td>\n      <td>Sedan</td>\n      <td>6</td>\n      <td>3.1</td>\n      <td>4</td>\n      <td>1</td>\n      <td>1</td>\n      <td>0</td>\n    </tr>\n    <tr>\n      <th>2</th>\n      <td>16218.847862</td>\n      <td>13196</td>\n      <td>Buick</td>\n      <td>Century</td>\n      <td>Sedan 4D</td>\n      <td>Sedan</td>\n      <td>6</td>\n      <td>3.1</td>\n      <td>4</td>\n      <td>1</td>\n      <td>1</td>\n      <td>0</td>\n    </tr>\n    <tr>\n      <th>3</th>\n      <td>16336.913140</td>\n      <td>16342</td>\n      <td>Buick</td>\n      <td>Century</td>\n      <td>Sedan 4D</td>\n      <td>Sedan</td>\n      <td>6</td>\n      <td>3.1</td>\n      <td>4</td>\n      <td>1</td>\n      <td>0</td>\n      <td>0</td>\n    </tr>\n    <tr>\n      <th>4</th>\n      <td>16339.170324</td>\n      <td>19832</td>\n      <td>Buick</td>\n      <td>Century</td>\n      <td>Sedan 4D</td>\n      <td>Sedan</td>\n      <td>6</td>\n      <td>3.1</td>\n      <td>4</td>\n      <td>1</td>\n      <td>0</td>\n      <td>1</td>\n    </tr>\n  </tbody>\n</table>\n</div>"
     },
     "metadata": {},
     "execution_count": 5
    }
   ],
   "source": [
    "df.head()"
   ]
  },
  {
   "cell_type": "code",
   "execution_count": 7,
   "metadata": {},
   "outputs": [
    {
     "output_type": "execute_result",
     "data": {
      "text/plain": "<class 'statsmodels.iolib.summary.Summary'>\n\"\"\"\n                            OLS Regression Results                            \n==============================================================================\nDep. Variable:                  Price   R-squared:                       0.042\nModel:                            OLS   Adj. R-squared:                  0.038\nMethod:                 Least Squares   F-statistic:                     11.57\nDate:                Mon, 07 Sep 2020   Prob (F-statistic):           1.98e-07\nTime:                        10:57:09   Log-Likelihood:                -8519.1\nNo. Observations:                 804   AIC:                         1.705e+04\nDf Residuals:                     800   BIC:                         1.706e+04\nDf Model:                           3                                         \nCovariance Type:            nonrobust                                         \n==============================================================================\n                 coef    std err          t      P>|t|      [0.025      0.975]\n------------------------------------------------------------------------------\nconst       3.125e+04   1809.549     17.272      0.000    2.77e+04    3.48e+04\nMileage       -0.1765      0.042     -4.227      0.000      -0.259      -0.095\nModel_ord    -39.0387     39.326     -0.993      0.321    -116.234      38.157\nDoors      -1652.9303    402.649     -4.105      0.000   -2443.303    -862.558\n==============================================================================\nOmnibus:                      206.410   Durbin-Watson:                   0.080\nProb(Omnibus):                  0.000   Jarque-Bera (JB):              470.872\nSkew:                           1.379   Prob(JB):                    5.64e-103\nKurtosis:                       5.541   Cond. No.                     1.15e+05\n==============================================================================\n\nWarnings:\n[1] Standard Errors assume that the covariance matrix of the errors is correctly specified.\n[2] The condition number is large, 1.15e+05. This might indicate that there are\nstrong multicollinearity or other numerical problems.\n\"\"\"",
      "text/html": "<table class=\"simpletable\">\n<caption>OLS Regression Results</caption>\n<tr>\n  <th>Dep. Variable:</th>          <td>Price</td>      <th>  R-squared:         </th> <td>   0.042</td> \n</tr>\n<tr>\n  <th>Model:</th>                   <td>OLS</td>       <th>  Adj. R-squared:    </th> <td>   0.038</td> \n</tr>\n<tr>\n  <th>Method:</th>             <td>Least Squares</td>  <th>  F-statistic:       </th> <td>   11.57</td> \n</tr>\n<tr>\n  <th>Date:</th>             <td>Mon, 07 Sep 2020</td> <th>  Prob (F-statistic):</th> <td>1.98e-07</td> \n</tr>\n<tr>\n  <th>Time:</th>                 <td>10:57:09</td>     <th>  Log-Likelihood:    </th> <td> -8519.1</td> \n</tr>\n<tr>\n  <th>No. Observations:</th>      <td>   804</td>      <th>  AIC:               </th> <td>1.705e+04</td>\n</tr>\n<tr>\n  <th>Df Residuals:</th>          <td>   800</td>      <th>  BIC:               </th> <td>1.706e+04</td>\n</tr>\n<tr>\n  <th>Df Model:</th>              <td>     3</td>      <th>                     </th>     <td> </td>    \n</tr>\n<tr>\n  <th>Covariance Type:</th>      <td>nonrobust</td>    <th>                     </th>     <td> </td>    \n</tr>\n</table>\n<table class=\"simpletable\">\n<tr>\n      <td></td>         <th>coef</th>     <th>std err</th>      <th>t</th>      <th>P>|t|</th>  <th>[0.025</th>    <th>0.975]</th>  \n</tr>\n<tr>\n  <th>const</th>     <td> 3.125e+04</td> <td> 1809.549</td> <td>   17.272</td> <td> 0.000</td> <td> 2.77e+04</td> <td> 3.48e+04</td>\n</tr>\n<tr>\n  <th>Mileage</th>   <td>   -0.1765</td> <td>    0.042</td> <td>   -4.227</td> <td> 0.000</td> <td>   -0.259</td> <td>   -0.095</td>\n</tr>\n<tr>\n  <th>Model_ord</th> <td>  -39.0387</td> <td>   39.326</td> <td>   -0.993</td> <td> 0.321</td> <td> -116.234</td> <td>   38.157</td>\n</tr>\n<tr>\n  <th>Doors</th>     <td>-1652.9303</td> <td>  402.649</td> <td>   -4.105</td> <td> 0.000</td> <td>-2443.303</td> <td> -862.558</td>\n</tr>\n</table>\n<table class=\"simpletable\">\n<tr>\n  <th>Omnibus:</th>       <td>206.410</td> <th>  Durbin-Watson:     </th> <td>   0.080</td> \n</tr>\n<tr>\n  <th>Prob(Omnibus):</th> <td> 0.000</td>  <th>  Jarque-Bera (JB):  </th> <td> 470.872</td> \n</tr>\n<tr>\n  <th>Skew:</th>          <td> 1.379</td>  <th>  Prob(JB):          </th> <td>5.64e-103</td>\n</tr>\n<tr>\n  <th>Kurtosis:</th>      <td> 5.541</td>  <th>  Cond. No.          </th> <td>1.15e+05</td> \n</tr>\n</table><br/><br/>Warnings:<br/>[1] Standard Errors assume that the covariance matrix of the errors is correctly specified.<br/>[2] The condition number is large, 1.15e+05. This might indicate that there are<br/>strong multicollinearity or other numerical problems."
     },
     "metadata": {},
     "execution_count": 7
    }
   ],
   "source": [
    "df['Model_ord'] = pd.Categorical(df.Model).codes\n",
    "X = df[['Mileage','Model_ord','Doors']]\n",
    "Y = df[['Price']]\n",
    "\n",
    "X1 = sm.add_constant(X)\n",
    "est = sm.OLS(Y,X1).fit()\n",
    "\n",
    "est.summary()"
   ]
  },
  {
   "cell_type": "code",
   "execution_count": 9,
   "metadata": {},
   "outputs": [
    {
     "output_type": "execute_result",
     "data": {
      "text/plain": "              Price\nDoors              \n2      23807.135520\n4      20580.670749",
      "text/html": "<div>\n<style scoped>\n    .dataframe tbody tr th:only-of-type {\n        vertical-align: middle;\n    }\n\n    .dataframe tbody tr th {\n        vertical-align: top;\n    }\n\n    .dataframe thead th {\n        text-align: right;\n    }\n</style>\n<table border=\"1\" class=\"dataframe\">\n  <thead>\n    <tr style=\"text-align: right;\">\n      <th></th>\n      <th>Price</th>\n    </tr>\n    <tr>\n      <th>Doors</th>\n      <th></th>\n    </tr>\n  </thead>\n  <tbody>\n    <tr>\n      <th>2</th>\n      <td>23807.135520</td>\n    </tr>\n    <tr>\n      <th>4</th>\n      <td>20580.670749</td>\n    </tr>\n  </tbody>\n</table>\n</div>"
     },
     "metadata": {},
     "execution_count": 9
    }
   ],
   "source": [
    "Y.groupby(df.Doors).mean()"
   ]
  },
  {
   "cell_type": "code",
   "execution_count": null,
   "metadata": {},
   "outputs": [],
   "source": []
  }
 ]
}