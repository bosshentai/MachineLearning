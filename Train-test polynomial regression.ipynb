version https://git-lfs.github.com/spec/v1
oid sha256:312492460f2ee6f70ca8d649ac89b729c3170595caf3b33e527bb3691284b4d1
size 3014
