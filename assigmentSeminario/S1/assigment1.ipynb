version https://git-lfs.github.com/spec/v1
oid sha256:778c1c851ee99164379c1e7aae2fa49eeea180d2ce44c04ad3e4de1b6ac8471f
size 13945
